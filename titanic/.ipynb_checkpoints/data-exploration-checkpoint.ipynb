{
 "cells": [
  {
   "cell_type": "code",
   "execution_count": 1,
   "id": "prime-highway",
   "metadata": {},
   "outputs": [],
   "source": [
    "import pandas as pd\n",
    "import matplotlib.pyplot as plt\n",
    "\n",
    "df = pd.read_csv(\"data/original/train.csv\")"
   ]
  },
  {
   "cell_type": "markdown",
   "id": "hindu-latino",
   "metadata": {},
   "source": [
    "Get the number of people:"
   ]
  },
  {
   "cell_type": "code",
   "execution_count": 18,
   "id": "general-speaking",
   "metadata": {},
   "outputs": [
    {
     "data": {
      "text/plain": [
       "891"
      ]
     },
     "execution_count": 18,
     "metadata": {},
     "output_type": "execute_result"
    }
   ],
   "source": [
    "total_passengers = len(df[\"PassengerId\"])\n",
    "total_passengers"
   ]
  },
  {
   "cell_type": "markdown",
   "id": "rough-damages",
   "metadata": {},
   "source": [
    "The total number of survivors"
   ]
  },
  {
   "cell_type": "code",
   "execution_count": 20,
   "id": "peaceful-valve",
   "metadata": {},
   "outputs": [
    {
     "data": {
      "text/plain": [
       "342"
      ]
     },
     "execution_count": 20,
     "metadata": {},
     "output_type": "execute_result"
    }
   ],
   "source": [
    "survivor_count = df[\"Survived\"].sum()\n",
    "survivor_count"
   ]
  },
  {
   "cell_type": "code",
   "execution_count": 44,
   "id": "productive-identification",
   "metadata": {},
   "outputs": [
    {
     "data": {
      "text/plain": [
       "0.6161616161616161"
      ]
     },
     "execution_count": 44,
     "metadata": {},
     "output_type": "execute_result"
    }
   ],
   "source": [
    "1-(342/891)"
   ]
  },
  {
   "cell_type": "markdown",
   "id": "further-essence",
   "metadata": {},
   "source": [
    "Out of the survivors, what percent were women?  children under 16?"
   ]
  },
  {
   "cell_type": "code",
   "execution_count": 30,
   "id": "behavioral-wound",
   "metadata": {},
   "outputs": [
    {
     "name": "stdout",
     "output_type": "stream",
     "text": [
      "0.6812865497076024\n",
      "0.14327485380116958\n"
     ]
    }
   ],
   "source": [
    "survivor_list = df[df[\"Survived\"] == 1]\n",
    "women_survivor_list = survivor_list[survivor_list[\"Sex\"] == \"female\"]\n",
    "young_survivor_list = survivor_list[survivor_list[\"Age\"] < 16]\n",
    "women_survivor_count = len(women_survivor_list)\n",
    "print(women_survivor_count / survivor_count)\n",
    "young_survivor_count = len(young_survivor_list)\n",
    "print(young_survivor_count / survivor_count)"
   ]
  },
  {
   "cell_type": "code",
   "execution_count": 68,
   "id": "overhead-heritage",
   "metadata": {},
   "outputs": [
    {
     "data": {
      "image/png": "[encoded data removed]",
      "text/plain": [
       "<Figure size 432x288 with 1 Axes>"
      ]
     },
     "metadata": {
      "needs_background": "light"
     },
     "output_type": "display_data"
    }
   ],
   "source": [
    "# Survival by sex\n",
    "import pandas as pd\n",
    "import matplotlib.pyplot as plt\n",
    "import math\n",
    "\n",
    "\n",
    "df = pd.read_csv(\"data/original/train.csv\")\n",
    "men = df[df[\"Sex\"] == \"male\"]\n",
    "women = df[df[\"Sex\"] == \"female\"]\n",
    "men_that_survived = men[men[\"Survived\"] == 1]\n",
    "women_that_survived = women[women[\"Survived\"] == 1]\n",
    "fig, ax = plt.subplots()\n",
    "ax.set_title(\"Survival Rates by Sex\")\n",
    "ax.set_xlabel(\"Sex\")\n",
    "ax.set_ylabel(\"Survival Rate\")\n",
    "ax.bar(0.5,len(women_that_survived)/len(women),label=\"women\", color=\"blue\", width=1)\n",
    "ax.bar(1.5,len(men_that_survived)/len(men),label=\"men\", color=\"green\", width=1)\n",
    "plt.show()"
   ]
  },
  {
   "cell_type": "code",
   "execution_count": 41,
   "id": "looking-checkout",
   "metadata": {},
   "outputs": [
    {
     "data": {
      "text/plain": [
       "<pandas.core.groupby.generic.DataFrameGroupBy object at 0x7f563968c1c0>"
      ]
     },
     "execution_count": 41,
     "metadata": {},
     "output_type": "execute_result"
    }
   ],
   "source": [
    "# Group ages into buckets, and show the percent of survivors in each bucket.\n",
    "# hunch: fare paid, pclass, and port of embarkation may be highly correlated.  Perhaps they could be reduced.\n",
    "# see if we can predict age by other factors.  such as pclass, etc."
   ]
  },
  {
   "cell_type": "code",
   "execution_count": 42,
   "id": "consistent-hampton",
   "metadata": {},
   "outputs": [
    {
     "name": "stderr",
     "output_type": "stream",
     "text": [
      "<ipython-input-42-7dc85816ec8d>:18: RuntimeWarning: invalid value encountered in long_scalars\n",
      "  women_survival_rate = women_in_age_group[\"Survived\"].sum() / len(women_in_age_group)\n"
     ]
    },
    {
     "data": {
      "text/plain": [
       "Text(0.5, 0, 'Age')"
      ]
     },
     "execution_count": 42,
     "metadata": {},
     "output_type": "execute_result"
    },
    {
     "data": {
      "image/png": "[encoded data removed]",
      "text/plain": [
       "<Figure size 432x288 with 1 Axes>"
      ]
     },
     "metadata": {
      "needs_background": "light"
     },
     "output_type": "display_data"
    }
   ],
   "source": [
    "import pandas as pd\n",
    "import matplotlib.pyplot as plt\n",
    "import math\n",
    "\n",
    "\n",
    "df = pd.read_csv(\"data/original/train.csv\")\n",
    "\n",
    "df[\"age_group\"] = [-1 if math.isnan(x) else math.floor(x / 10) for x in df[\"Age\"]]\n",
    "\n",
    "# Let's plot fare paid against age.\n",
    "fig, ax = plt.subplots()\n",
    "ax.set_title(\"Survival Rate by Age\")\n",
    "for group_number in range(-1, 8):\n",
    "    age_span_start = group_number * 10\n",
    "    age_span_end = (group_number+1) * 10\n",
    "    women_in_age_group = df[df[\"Sex\"] == \"female\"]\n",
    "    women_in_age_group = women_in_age_group[women_in_age_group[\"age_group\"] == group_number]\n",
    "    women_survival_rate = women_in_age_group[\"Survived\"].sum() / len(women_in_age_group)\n",
    "    men_in_age_group = df[df[\"Sex\"] == \"male\"]\n",
    "    men_in_age_group = men_in_age_group[men_in_age_group[\"age_group\"] == group_number]\n",
    "    men_survival_rate = men_in_age_group[\"Survived\"].sum() / len(men_in_age_group)\n",
    "    ax.bar(age_span_start+2, women_survival_rate, width=4, color=\"green\")\n",
    "    ax.bar(age_span_start+6, men_survival_rate, width=4, color=\"blue\")\n",
    "ax.set_xlim(-10, 90)\n",
    "ax.set_ylabel(\"Survival Rate\")\n",
    "ax.set_xlabel(\"Age\")"
   ]
  },
  {
   "cell_type": "markdown",
   "id": "binary-tissue",
   "metadata": {},
   "source": [
    "C = Cherbourg, Q = Queenstown, S = Southampton\n",
    "We see that most people got onboard from Southampton, and most people were in third class.\n",
    "People from Queenstown were almost exclusively third class\n",
    "Many people from Cherbourg were in first class"
   ]
  },
  {
   "cell_type": "code",
   "execution_count": 46,
   "id": "resistant-bhutan",
   "metadata": {},
   "outputs": [
    {
     "data": {
      "image/png": "[encoded data removed]",
      "text/plain": [
       "<Figure size 432x288 with 1 Axes>"
      ]
     },
     "metadata": {
      "needs_background": "light"
     },
     "output_type": "display_data"
    }
   ],
   "source": [
    "import pandas as pd\n",
    "import matplotlib.pyplot as plt\n",
    "import math\n",
    "\n",
    "\n",
    "df = pd.read_csv(\"data/original/train.csv\")\n",
    "fig, ax = plt.subplots()\n",
    "# I want to see, for port of embarkation, what class was chosen.\n",
    "base = 0\n",
    "for emb in ['C', 'S', 'Q']:\n",
    "    ppl = df[df[\"Embarked\"] == emb]\n",
    "    for cls in range(1, 4):\n",
    "        ppl_in_class = ppl[ppl[\"Pclass\"] == cls]\n",
    "        key = \"{}{}\".format(emb, cls)\n",
    "        ax.bar(4 * base + cls, len(ppl_in_class), width=1, label=key)\n",
    "    base += 1\n",
    "ax.set_title(\"Passengers by port and class\")\n",
    "ax.set_xlabel(\"ports and classes\")\n",
    "ax.set_ylabel(\"count of people\")\n",
    "ax.legend()\n",
    "plt.show()"
   ]
  },
  {
   "cell_type": "code",
   "execution_count": 77,
   "id": "parliamentary-newcastle",
   "metadata": {},
   "outputs": [
    {
     "data": {
      "image/png": "[encoded data removed]",
      "text/plain": [
       "<Figure size 432x288 with 1 Axes>"
      ]
     },
     "metadata": {
      "needs_background": "light"
     },
     "output_type": "display_data"
    }
   ],
   "source": [
    "import pandas as pd\n",
    "import matplotlib.pyplot as plt\n",
    "import math\n",
    "\n",
    "\n",
    "df = pd.read_csv(\"data/original/train.csv\")\n",
    "fig, ax = plt.subplots()\n",
    "# I want to see, for port of embarkation, what class was chosen.\n",
    "base = 0\n",
    "for emb in ['C', 'S', 'Q']:\n",
    "    ppl = df[df[\"Embarked\"] == emb]\n",
    "    for cls in range(1, 4):\n",
    "        ppl_in_class = ppl[ppl[\"Pclass\"] == cls]\n",
    "        svrvrs = ppl_in_class[ppl_in_class[\"Survived\"] == 1]\n",
    "        key = \"{}{}\".format(emb, cls)\n",
    "        ax.bar(4 * base + cls, len(svrvrs) / len(ppl_in_class), width=1, label=key)\n",
    "    base += 1\n",
    "ax.set_title(\"Survival Rate by port and class\")\n",
    "ax.set_xlabel(\"ports and classes\")\n",
    "ax.set_ylabel(\"Survival Rate\")\n",
    "#ax.legend()\n",
    "plt.show()"
   ]
  },
  {
   "cell_type": "markdown",
   "id": "thousand-craft",
   "metadata": {},
   "source": [
    "The port that they embarked from did have a substantial impact on their odds of survival.  People in the same class but from different ports of embarkation seemed to have very different rates of survival."
   ]
  },
  {
   "cell_type": "code",
   "execution_count": 50,
   "id": "partial-medicaid",
   "metadata": {},
   "outputs": [
    {
     "data": {
      "image/png": "[encoded data removed]",
      "text/plain": [
       "<Figure size 432x288 with 1 Axes>"
      ]
     },
     "metadata": {
      "needs_background": "light"
     },
     "output_type": "display_data"
    }
   ],
   "source": [
    "import pandas as pd\n",
    "import matplotlib.pyplot as plt\n",
    "import math\n",
    "\n",
    "df = pd.read_csv(\"data/original/train.csv\")\n",
    "fig, ax = plt.subplots()\n",
    "for cls in range(1, 4):\n",
    "    ppl = df[df[\"Pclass\"] == cls]\n",
    "    ppl_count = len(ppl)\n",
    "    survived_in_class = len(ppl[ppl[\"Survived\"] == 1])\n",
    "    ax.bar(cls, survived_in_class / ppl_count, width=1)\n",
    "ax.set_xlabel(\"class\")\n",
    "ax.set_ylabel(\"survival rate\")\n",
    "ax.set_xticks(range(1, 4, 1))\n",
    "ax.set_xticklabels(range(1, 4))\n",
    "ax.set_title(\"Survival rate by class\")\n",
    "plt.show()"
   ]
  },
  {
   "cell_type": "markdown",
   "id": "organized-entity",
   "metadata": {},
   "source": [
    "The more expensive your class was, the more likely you were to survive.\n",
    "See if you can guess age based on things like their class, fare, port, parch, or sibsp"
   ]
  },
  {
   "cell_type": "code",
   "execution_count": 75,
   "id": "lucky-means",
   "metadata": {},
   "outputs": [
    {
     "data": {
      "image/png": "[encoded data removed]",
      "text/plain": [
       "<Figure size 432x288 with 1 Axes>"
      ]
     },
     "metadata": {
      "needs_background": "light"
     },
     "output_type": "display_data"
    }
   ],
   "source": [
    "import pandas as pd\n",
    "import matplotlib.pyplot as plt\n",
    "import math\n",
    "\n",
    "df = pd.read_csv(\"data/original/train.csv\")\n",
    "fig, ax = plt.subplots()\n",
    "for i in range(0, 500, 25):\n",
    "    ppl = df[df[\"Fare\"] >= i]\n",
    "    ppl = ppl[ppl[\"Fare\"] < (i + 25)]\n",
    "    ppl_count = len(ppl)\n",
    "    survived_in_them = len(ppl[ppl[\"Survived\"] == 1])\n",
    "    if ppl_count < 1:\n",
    "        continue\n",
    "    ax.bar(i+12.5,  survived_in_them / ppl_count, width=25)\n",
    "ax.set_xlabel(\"fare paid\")\n",
    "ax.set_ylabel(\"survival rate\")\n",
    "ax.set_title(\"Survival rate by fare paid\")\n",
    "plt.show()"
   ]
  },
  {
   "cell_type": "markdown",
   "id": "third-reliance",
   "metadata": {},
   "source": [
    "So the fare that they paid was a good predictor of if they survived.  This may be correlated with their class though.  You may want to combine the fare paid and class into one feature."
   ]
  },
  {
   "cell_type": "code",
   "execution_count": 61,
   "id": "tutorial-maple",
   "metadata": {},
   "outputs": [
    {
     "data": {
      "image/png": "[encoded data removed]",
      "text/plain": [
       "<Figure size 432x288 with 1 Axes>"
      ]
     },
     "metadata": {
      "needs_background": "light"
     },
     "output_type": "display_data"
    }
   ],
   "source": [
    "import pandas as pd\n",
    "import matplotlib.pyplot as plt\n",
    "import math\n",
    "\n",
    "df = pd.read_csv(\"data/original/train.csv\")\n",
    "fig, ax = plt.subplots()\n",
    "# I want to see, for port of embarkation, what class was chosen.\n",
    "people_with_family = df[df[\"SibSp\"] > 0]\n",
    "people_with_family = people_with_family[people_with_family[\"Age\"] != math.nan]\n",
    "for g in range(0, 9):\n",
    "    start_age = g * 10\n",
    "    end_age = (g+1) * 10\n",
    "\n",
    "    ppl = people_with_family[people_with_family[\"Age\"] >= start_age]\n",
    "    ppl = ppl[ppl[\"Age\"] < end_age]\n",
    "    ppl_count = len(ppl)\n",
    "    count = len(ppl[ppl[\"Survived\"] == 1])\n",
    "    ax.bar(5+start_age, count, width=10)\n",
    "ax.set_xlabel(\"age group\")\n",
    "ax.set_ylabel(\"people count\")\n",
    "ax.set_title(\"Ages of people with siblings\")\n",
    "plt.show()"
   ]
  },
  {
   "cell_type": "markdown",
   "id": "sensitive-pressing",
   "metadata": {},
   "source": [
    "If somebody travelled with siblings, it is hard to guess their age.  So it doesn't tell us much.  This may be a feature you should just remove and ignore."
   ]
  },
  {
   "cell_type": "code",
   "execution_count": 60,
   "id": "extreme-toolbox",
   "metadata": {},
   "outputs": [
    {
     "data": {
      "image/png": "[encoded data removed]",
      "text/plain": [
       "<Figure size 432x288 with 1 Axes>"
      ]
     },
     "metadata": {
      "needs_background": "light"
     },
     "output_type": "display_data"
    }
   ],
   "source": [
    "import pandas as pd\n",
    "import matplotlib.pyplot as plt\n",
    "import math\n",
    "\n",
    "df = pd.read_csv(\"data/original/train.csv\")\n",
    "fig, ax = plt.subplots()\n",
    "# I want to see, for port of embarkation, what class was chosen.\n",
    "people_with_family = df[df[\"Parch\"] > 0]\n",
    "people_with_family = people_with_family[people_with_family[\"Age\"] != math.nan]\n",
    "for g in range(0, 9):\n",
    "    start_age = g * 10\n",
    "    end_age = (g+1) * 10\n",
    "\n",
    "    ppl = people_with_family[people_with_family[\"Age\"] >= start_age]\n",
    "    ppl = ppl[ppl[\"Age\"] < end_age]\n",
    "    ppl_count = len(ppl)\n",
    "    count = len(ppl[ppl[\"Survived\"] == 1])\n",
    "    ax.bar(5+start_age, count, width=10)\n",
    "ax.set_xlabel(\"age group\")\n",
    "ax.set_ylabel(\"people count\")\n",
    "ax.set_title(\"Ages of people with parents or children\")\n",
    "plt.show()"
   ]
  },
  {
   "cell_type": "markdown",
   "id": "dietary-array",
   "metadata": {},
   "source": [
    "if somebody travelled with parents or children, they were more likely to be a young child.  Check survival rates based on parent/child relationships."
   ]
  },
  {
   "cell_type": "code",
   "execution_count": 70,
   "id": "frequent-browse",
   "metadata": {},
   "outputs": [
    {
     "data": {
      "image/png": "[encoded data removed]",
      "text/plain": [
       "<Figure size 432x288 with 1 Axes>"
      ]
     },
     "metadata": {
      "needs_background": "light"
     },
     "output_type": "display_data"
    }
   ],
   "source": [
    "import pandas as pd\n",
    "import matplotlib.pyplot as plt\n",
    "import math\n",
    "\n",
    "df = pd.read_csv(\"data/original/train.csv\")\n",
    "fig, ax = plt.subplots()\n",
    "# I want to see, for port of embarkation, what class was chosen.\n",
    "people_with_family = df[df[\"Parch\"] > 0]\n",
    "people_with_family = people_with_family[people_with_family[\"SibSp\"] > 0]\n",
    "people_with_family = people_with_family[people_with_family[\"Age\"] != math.nan]\n",
    "for g in range(0, 9):\n",
    "    start_age = g * 10\n",
    "    end_age = (g+1) * 10\n",
    "\n",
    "    ppl = people_with_family[people_with_family[\"Age\"] >= start_age]\n",
    "    ppl = ppl[ppl[\"Age\"] < end_age]\n",
    "    ppl_count = len(ppl)\n",
    "    count = len(ppl[ppl[\"Survived\"] == 1])\n",
    "    ax.bar(5+start_age, count, width=10)\n",
    "ax.set_xlabel(\"age group\")\n",
    "ax.set_ylabel(\"people count\")\n",
    "ax.set_title(\"Ages of people with parents or children and also a sibling or spouse\")\n",
    "plt.show()"
   ]
  },
  {
   "cell_type": "markdown",
   "id": "warming-uncertainty",
   "metadata": {},
   "source": [
    "Having a sibling or spouse does not help us predict their age.  Since for children they used the same column to record siblings, the column is less useful."
   ]
  },
  {
   "cell_type": "code",
   "execution_count": 73,
   "id": "headed-delight",
   "metadata": {},
   "outputs": [
    {
     "data": {
      "image/png": "[encoded data removed]",
      "text/plain": [
       "<Figure size 432x288 with 1 Axes>"
      ]
     },
     "metadata": {
      "needs_background": "light"
     },
     "output_type": "display_data"
    }
   ],
   "source": [
    "# See the survival rate of men over 20 traveling with a spouse vs. without one.\n",
    "import pandas as pd\n",
    "import matplotlib.pyplot as plt\n",
    "import math\n",
    "\n",
    "df = pd.read_csv(\"data/original/train.csv\")\n",
    "x = df[df[\"Sex\"] == \"male\"]\n",
    "x = x[x[\"Age\"] > 20]\n",
    "unmarried = x[x[\"SibSp\"] < 1]\n",
    "married = x[x[\"SibSp\"] > 0]\n",
    "fathers = x[x[\"Parch\"] > 0]\n",
    "\n",
    "fig, ax = plt.subplots()\n",
    "ax.set_title(\"Survival rate of married vs. unmarried men\")\n",
    "ax.bar(0.5, len(unmarried[unmarried[\"Survived\"] == 1]) / len(unmarried), label=\"unmarried\", color='orange', width=1)\n",
    "ax.bar(1.5, len(married[married[\"Survived\"] == 1]) / len(married), label=\"married\", color='green', width=1)\n",
    "ax.bar(2.5, len(fathers[fathers[\"Survived\"] == 1]) / len(fathers), label=\"fathers\", color='blue', width=1)\n",
    "ax.legend()\n",
    "plt.show()"
   ]
  },
  {
   "cell_type": "markdown",
   "id": "accredited-switch",
   "metadata": {},
   "source": [
    "Having a spouse or children did not seem to help the adult men to survive by much."
   ]
  },
  {
   "cell_type": "code",
   "execution_count": 80,
   "id": "found-learning",
   "metadata": {},
   "outputs": [
    {
     "data": {
      "image/png": "[encoded data removed]",
      "text/plain": [
       "<Figure size 432x288 with 1 Axes>"
      ]
     },
     "metadata": {
      "needs_background": "light"
     },
     "output_type": "display_data"
    }
   ],
   "source": [
    "# View the survival rate by parch\n",
    "# See the survival rate of men over 20 traveling with a spouse vs. without one.\n",
    "import pandas as pd\n",
    "import matplotlib.pyplot as plt\n",
    "import math\n",
    "\n",
    "df = pd.read_csv(\"data/original/train.csv\")\n",
    "\n",
    "fig, ax = plt.subplots()\n",
    "ax.set_title(\"Survival rate by parch\")\n",
    "for i in range(0,6):\n",
    "    ppl = df[df[\"Parch\"] == i]\n",
    "    cnt = len(ppl)\n",
    "    if cnt < 1:\n",
    "        continue\n",
    "    svs = ppl[ppl[\"Survived\"] == 1]\n",
    "    cnt_svs = len(svs)\n",
    "    ax.bar(i+0.5, cnt_svs / cnt, width=1)\n",
    "ax.set_xlabel(\"parent-child count\")\n",
    "ax.set_ylabel(\"survival rate\")\n",
    "plt.show()"
   ]
  },
  {
   "cell_type": "code",
   "execution_count": 81,
   "id": "contrary-studio",
   "metadata": {},
   "outputs": [
    {
     "data": {
      "image/png": "[encoded data removed]",
      "text/plain": [
       "<Figure size 432x288 with 1 Axes>"
      ]
     },
     "metadata": {
      "needs_background": "light"
     },
     "output_type": "display_data"
    }
   ],
   "source": [
    "# View the survival rate by parch\n",
    "# See the survival rate of men over 20 traveling with a spouse vs. without one.\n",
    "import pandas as pd\n",
    "import matplotlib.pyplot as plt\n",
    "import math\n",
    "\n",
    "df = pd.read_csv(\"data/original/train.csv\")\n",
    "\n",
    "fig, ax = plt.subplots()\n",
    "ax.set_title(\"Survival rate of mothers\")\n",
    "for i in range(0,6):\n",
    "    ppl = df[df[\"Parch\"] == i]\n",
    "    ppl = ppl[ppl[\"Sex\"] == \"female\"]\n",
    "    cnt = len(ppl)\n",
    "    if cnt < 1:\n",
    "        continue\n",
    "    svs = ppl[ppl[\"Survived\"] == 1]\n",
    "    cnt_svs = len(svs)\n",
    "    ax.bar(i+0.5, cnt_svs / cnt, width=1)\n",
    "ax.set_xlabel(\"parent-child count\")\n",
    "ax.set_ylabel(\"survival rate\")\n",
    "plt.show()"
   ]
  },
  {
   "cell_type": "code",
   "execution_count": 82,
   "id": "fiscal-senegal",
   "metadata": {},
   "outputs": [
    {
     "data": {
      "image/png": "[encoded data removed]",
      "text/plain": [
       "<Figure size 432x288 with 1 Axes>"
      ]
     },
     "metadata": {
      "needs_background": "light"
     },
     "output_type": "display_data"
    }
   ],
   "source": [
    "# View the survival rate by parch\n",
    "# See the survival rate of men over 20 traveling with a spouse vs. without one.\n",
    "import pandas as pd\n",
    "import matplotlib.pyplot as plt\n",
    "import math\n",
    "\n",
    "df = pd.read_csv(\"data/original/train.csv\")\n",
    "\n",
    "fig, ax = plt.subplots()\n",
    "ax.set_title(\"Survival rate of fathers\")\n",
    "for i in range(0,6):\n",
    "    ppl = df[df[\"Parch\"] == i]\n",
    "    ppl = ppl[ppl[\"Sex\"] == \"male\"]\n",
    "    cnt = len(ppl)\n",
    "    if cnt < 1:\n",
    "        continue\n",
    "    svs = ppl[ppl[\"Survived\"] == 1]\n",
    "    cnt_svs = len(svs)\n",
    "    ax.bar(i+0.5, cnt_svs / cnt, width=1)\n",
    "ax.set_xlabel(\"parent-child count\")\n",
    "ax.set_ylabel(\"survival rate\")\n",
    "plt.show()"
   ]
  },
  {
   "cell_type": "markdown",
   "id": "disturbed-provincial",
   "metadata": {},
   "source": [
    "Oddly enough, you were more likely to survive as a woman if you did not have children, but not by much."
   ]
  },
  {
   "cell_type": "code",
   "execution_count": 57,
   "id": "limiting-reception",
   "metadata": {},
   "outputs": [
    {
     "name": "stdout",
     "output_type": "stream",
     "text": [
      "parch=0, sibsp=0, count=537, avg_age=32.2, count_no_age=133\n",
      "parch=0, sibsp=1, count=123, avg_age=32.1, count_no_age=21\n",
      "parch=0, sibsp=2, count=16, avg_age=31.8, count_no_age=3\n",
      "parch=0, sibsp=3, count=2, avg_age=31.5, count_no_age=0\n",
      "parch=1, sibsp=0, count=38, avg_age=29.5, count_no_age=1\n",
      "parch=1, sibsp=1, count=57, avg_age=27.1, count_no_age=3\n",
      "parch=1, sibsp=2, count=7, avg_age=8.4, count_no_age=0\n",
      "parch=1, sibsp=3, count=7, avg_age=4.3, count_no_age=4\n",
      "parch=1, sibsp=4, count=9, avg_age=6.8, count_no_age=0\n",
      "parch=2, sibsp=0, count=29, avg_age=21.0, count_no_age=3\n",
      "parch=2, sibsp=1, count=19, avg_age=20.5, count_no_age=2\n",
      "parch=2, sibsp=2, count=4, avg_age=17.2, count_no_age=0\n",
      "parch=2, sibsp=3, count=7, avg_age=13.0, count_no_age=0\n",
      "parch=2, sibsp=4, count=9, avg_age=7.3, count_no_age=0\n",
      "parch=2, sibsp=5, count=5, avg_age=10.2, count_no_age=0\n",
      "parch=2, sibsp=8, count=7, avg_age=nan, count_no_age=7\n",
      "parch=3, sibsp=0, count=1, avg_age=24.0, count_no_age=0\n",
      "parch=3, sibsp=1, count=3, avg_age=39.3, count_no_age=0\n",
      "parch=3, sibsp=2, count=1, avg_age=24.0, count_no_age=0\n",
      "parch=4, sibsp=0, count=1, avg_age=29.0, count_no_age=0\n",
      "parch=4, sibsp=1, count=3, avg_age=49.7, count_no_age=0\n",
      "parch=5, sibsp=0, count=2, avg_age=40.0, count_no_age=0\n",
      "parch=5, sibsp=1, count=3, avg_age=38.7, count_no_age=0\n",
      "parch=6, sibsp=1, count=1, avg_age=43.0, count_no_age=0\n"
     ]
    }
   ],
   "source": [
    "import pandas as pd\n",
    "import math\n",
    "\n",
    "df = pd.read_csv(\"data/original/train.csv\")\n",
    "for parch_value in range(0, 7):\n",
    "    t = df[df[\"Parch\"] == parch_value]\n",
    "    for sibsp_value in range(0,9):\n",
    "        x = t[t[\"SibSp\"] == sibsp_value]\n",
    "        count = len(x)\n",
    "        if count < 1:\n",
    "            continue\n",
    "        unknown_age = [h for h in x[\"Age\"] if math.isnan(h)]\n",
    "        count_unknown_age = len(unknown_age)\n",
    "        average_age = x[\"Age\"].mean()\n",
    "        print(\"parch={}, sibsp={}, count={}, avg_age={}, count_no_age={}\".format(parch_value, sibsp_value, count, round(average_age,1), count_unknown_age))"
   ]
  },
  {
   "cell_type": "markdown",
   "id": "neither-nickel",
   "metadata": {},
   "source": [
    "Feature Engineering: keep sex, and age\n",
    "If there age is not known:\n",
    "* if they are a female, and their name has \"Mrs.\", then assume they are 30\n",
    "* there might be a correlation from age and fare paid.\n",
    "* if there name has \"Master\" in it, they are usually young boys, so assume their age is 2\n",
    "* if their fare is higher, assume they are 30.\n",
    "* if they have no parents or children listed, assume they are 30\n",
    "Keep the fare they paid, in buckets.  This seems to be a better predictor of survival than their class.\n",
    "The port of embarkation does have an impact on things, keep that feature.  It may be wise to combine the port and class into one feature.\n",
    "Having a cabin listed tends to mean they were in first class, it does seem to be well correlated.\n",
    "The ticket information seems to be useless.\n",
    "keeping discrete ages might be useful, depending upon how the algorithm works.  For bayes, buckets would be better.  For decision trees I'm not sure."
   ]
  },
  {
   "cell_type": "code",
   "execution_count": null,
   "id": "engaged-death",
   "metadata": {},
   "outputs": [],
   "source": []
  }
 ],
 "metadata": {
  "kernelspec": {
   "display_name": "Python 3",
   "language": "python",
   "name": "python3"
  },
  "language_info": {
   "codemirror_mode": {
    "name": "ipython",
    "version": 3
   },
   "file_extension": ".py",
   "mimetype": "text/x-python",
   "name": "python",
   "nbconvert_exporter": "python",
   "pygments_lexer": "ipython3",
   "version": "3.8.5"
  }
 },
 "nbformat": 4,
 "nbformat_minor": 5
}
