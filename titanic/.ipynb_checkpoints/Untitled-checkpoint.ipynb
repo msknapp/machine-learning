{
 "cells": [
  {
   "cell_type": "code",
   "execution_count": 125,
   "id": "integral-yeast",
   "metadata": {},
   "outputs": [],
   "source": [
    "import numpy as np\n",
    "index, survived, pclass, sex, age, sibsp, parch, fare = np.loadtxt(fname=\"/home/mike/Documents/data/titanic/train-sanitized.csv\",delimiter=\",\",\n",
    "               skiprows=1,usecols=(0, 1,2,4,5,6,7,9), unpack=True, \n",
    "               converters={4: lambda s: 1 if s.decode('utf-8') == \"male\" else 0, \n",
    "                           5: lambda s: -1 if len(s) < 1 else float(s.decode('utf-8'))})\n",
    "survived.astype(int)\n",
    "sex.astype(int)\n",
    "age.astype(int)\n",
    "sibsp.astype(int)\n",
    "parch.astype(int)\n",
    "pass"
   ]
  },
  {
   "cell_type": "markdown",
   "id": "surgical-permit",
   "metadata": {},
   "source": [
    "num_people = len(survived)\n",
    "num_men = int(sex.sum())\n",
    "num_women = num_people - num_men\n",
    "men_survivors = int((sex * survived).sum())\n",
    "women_survivors = int(((1-sex)*survived).sum())\n",
    "men_survival_percent = men_survivors / num_men\n",
    "women_survival_percent = women_survivors / num_women"
   ]
  },
  {
   "cell_type": "code",
   "execution_count": 25,
   "id": "artificial-domain",
   "metadata": {},
   "outputs": [
    {
     "data": {
      "text/plain": [
       "891"
      ]
     },
     "execution_count": 25,
     "metadata": {},
     "output_type": "execute_result"
    }
   ],
   "source": [
    "num_people"
   ]
  },
  {
   "cell_type": "code",
   "execution_count": 26,
   "id": "characteristic-senior",
   "metadata": {},
   "outputs": [
    {
     "data": {
      "text/plain": [
       "577"
      ]
     },
     "execution_count": 26,
     "metadata": {},
     "output_type": "execute_result"
    }
   ],
   "source": [
    "num_men"
   ]
  },
  {
   "cell_type": "code",
   "execution_count": 27,
   "id": "engaging-search",
   "metadata": {},
   "outputs": [
    {
     "data": {
      "text/plain": [
       "314"
      ]
     },
     "execution_count": 27,
     "metadata": {},
     "output_type": "execute_result"
    }
   ],
   "source": [
    "num_women"
   ]
  },
  {
   "cell_type": "code",
   "execution_count": 29,
   "id": "solar-detroit",
   "metadata": {},
   "outputs": [
    {
     "data": {
      "text/plain": [
       "109"
      ]
     },
     "execution_count": 29,
     "metadata": {},
     "output_type": "execute_result"
    }
   ],
   "source": [
    "men_survivors"
   ]
  },
  {
   "cell_type": "code",
   "execution_count": 30,
   "id": "sunset-ukraine",
   "metadata": {},
   "outputs": [
    {
     "data": {
      "text/plain": [
       "233"
      ]
     },
     "execution_count": 30,
     "metadata": {},
     "output_type": "execute_result"
    }
   ],
   "source": [
    "women_survivors"
   ]
  },
  {
   "cell_type": "code",
   "execution_count": 41,
   "id": "split-senator",
   "metadata": {},
   "outputs": [
    {
     "data": {
      "image/png": "[encoded data removed]",
      "text/plain": [
       "<Figure size 432x288 with 1 Axes>"
      ]
     },
     "metadata": {
      "needs_background": "light"
     },
     "output_type": "display_data"
    }
   ],
   "source": [
    "import matplotlib\n",
    "import matplotlib.pyplot as plt\n",
    "fig, ax = plt.subplots()\n",
    "rects1 = ax.bar(1, men_survival_percent*100, width=0.8, label='Men')\n",
    "rects2 = ax.bar(2, women_survival_percent*100, width=0.8, label='Women')\n",
    "\n",
    "# Add some text for labels, title and custom x-axis tick labels, etc.\n",
    "ax.set_ylabel('Survival Percent')\n",
    "ax.set_xlabel(\"Gender\")\n",
    "# ax.set_xticklabels([\"male\", \"female\"])\n",
    "ax.set_title('Probability of Survival by Gender')\n",
    "ax.legend()\n",
    "plt.show()"
   ]
  },
  {
   "cell_type": "code",
   "execution_count": 77,
   "id": "subject-siemens",
   "metadata": {
    "scrolled": true
   },
   "outputs": [],
   "source": [
    "age_groups = (age - age % 10).astype(int)\n",
    "surviving_age_groups = np.column_stack((age_groups, survived))\n",
    "survivors_by_age = age_groups[survived == 1].astype(int)\n",
    "deceased_by_age = age_groups[survived == 0].astype(int)"
   ]
  },
  {
   "cell_type": "code",
   "execution_count": 78,
   "id": "original-journey",
   "metadata": {},
   "outputs": [],
   "source": [
    "grouped_survivors_by_age = {key: survivors_by_age[survivors_by_age==key].size for key in range(-10,100,10)}\n",
    "grouped_deceased_by_age = {key: deceased_by_age[deceased_by_age==key].size for key in range(-10,100,10)}"
   ]
  },
  {
   "cell_type": "code",
   "execution_count": 95,
   "id": "alien-devil",
   "metadata": {
    "scrolled": true
   },
   "outputs": [],
   "source": [
    "for age_group in range(-10,100,10):\n",
    "    survivors = grouped_survivors_by_age[age_group]\n",
    "    deceased = grouped_deceased_by_age[age_group]"
   ]
  },
  {
   "cell_type": "code",
   "execution_count": 138,
   "id": "rental-limitation",
   "metadata": {
    "scrolled": true
   },
   "outputs": [
    {
     "data": {
      "image/png": "[encoded data removed]",
      "text/plain": [
       "<Figure size 432x288 with 1 Axes>"
      ]
     },
     "metadata": {
      "needs_background": "light"
     },
     "output_type": "display_data"
    }
   ],
   "source": [
    "fig, ax = plt.subplots()\n",
    "age_span = 4\n",
    "ages_of_survivors = age[survived == 1]\n",
    "ages_of_deceased = age[survived == 0]\n",
    "for age_group in range(-age_span,90,age_span):\n",
    "    people_arr = age[age >= age_group]\n",
    "    people_arr = people_arr[people_arr < (age_group + age_span)]\n",
    "    people = people_arr.size\n",
    "    if people == 0:\n",
    "        continue\n",
    "    ax.bar(age_group + age_span/2, people, 0.9 * age_span, color='blue')\n",
    "ax.set_ylabel(\"people\")\n",
    "ax.set_xlabel(\"age group\")\n",
    "ax.set_title(\"Passengers by Age\")\n",
    "plt.show()"
   ]
  },
  {
   "cell_type": "code",
   "execution_count": 134,
   "id": "boxed-diana",
   "metadata": {
    "scrolled": true
   },
   "outputs": [
    {
     "data": {
      "image/png": "[encoded data removed]",
      "text/plain": [
       "<Figure size 432x288 with 1 Axes>"
      ]
     },
     "metadata": {
      "needs_background": "light"
     },
     "output_type": "display_data"
    }
   ],
   "source": [
    "fig, ax = plt.subplots()\n",
    "age_span = 18\n",
    "ages_of_survivors = age[survived == 1]\n",
    "ages_of_deceased = age[survived == 0]\n",
    "for age_group in range(-age_span,90,age_span):\n",
    "    people_arr = age[age >= age_group]\n",
    "    people_arr = people_arr[people_arr < (age_group + age_span)]\n",
    "    people = people_arr.size\n",
    "    if people == 0:\n",
    "        continue\n",
    "    survivors_in_group = ages_of_survivors[ages_of_survivors >= age_group]\n",
    "    survivors_in_group = survivors_in_group[survivors_in_group < age_group + age_span]\n",
    "    survived_count = survivors_in_group.size\n",
    "    \n",
    "    deceased_in_group = ages_of_deceased[ages_of_deceased >= age_group]\n",
    "    deceased_in_group = deceased_in_group[deceased_in_group < age_group + age_span]\n",
    "    \n",
    "    deceased_count = deceased_in_group.size\n",
    "    ax.bar(age_group+0.9 * age_span/2, deceased_count, 0.9 * age_span/2, color=\"red\")\n",
    "    ax.bar(age_group+0.9 * age_span, survived_count, 0.9 * age_span/2, color=\"green\")\n",
    "ax.set_ylabel(\"people\")\n",
    "ax.set_xlabel(\"age group\")\n",
    "ax.set_title(\"Survival of Passengers by Age\")\n",
    "plt.show()"
   ]
  },
  {
   "cell_type": "code",
   "execution_count": 119,
   "id": "lonely-platform",
   "metadata": {},
   "outputs": [
    {
     "data": {
      "text/plain": [
       "array([], shape=(0, 891), dtype=float64)"
      ]
     },
     "execution_count": 119,
     "metadata": {},
     "output_type": "execute_result"
    }
   ],
   "source": [
    "age[survived == 1]"
   ]
  },
  {
   "cell_type": "code",
   "execution_count": 141,
   "id": "meaning-nicaragua",
   "metadata": {},
   "outputs": [
    {
     "name": "stdout",
     "output_type": "stream",
     "text": [
      "342\n"
     ]
    },
    {
     "data": {
      "image/png": "[encoded data removed]",
      "text/plain": [
       "<Figure size 432x288 with 1 Axes>"
      ]
     },
     "metadata": {
      "needs_background": "light"
     },
     "output_type": "display_data"
    }
   ],
   "source": [
    "fig, ax = plt.subplots()\n",
    "age_span = 10\n",
    "ages_of_survivors = age[survived == 1]\n",
    "print(ages_of_survivors.size)\n",
    "for age_group in range(-age_span,90,age_span):\n",
    "    people_arr = age[age >= age_group]\n",
    "    people_arr = people_arr[people_arr < (age_group + age_span)]\n",
    "    people = people_arr.size\n",
    "    if people == 0:\n",
    "        continue\n",
    "    survivors_in_group = ages_of_survivors[ages_of_survivors >= age_group]\n",
    "    survivors_in_group = survivors_in_group[survivors_in_group < age_group + age_span]\n",
    "    survived_count = survivors_in_group.size\n",
    "    survival_rate = 100 * (survived_count / people)\n",
    "    ax.bar(age_group + age_span/2, survival_rate, 0.9 * age_span, color=\"green\")\n",
    "ax.set_ylabel(\"survival rate\")\n",
    "ax.set_xlabel(\"age group\")\n",
    "ax.set_title(\"Survival of Passengers by Age\")\n",
    "plt.show()"
   ]
  },
  {
   "cell_type": "code",
   "execution_count": 90,
   "id": "sapphire-reform",
   "metadata": {
    "scrolled": true
   },
   "outputs": [
    {
     "data": {
      "image/png": "[encoded data removed]",
      "text/plain": [
       "<Figure size 432x288 with 1 Axes>"
      ]
     },
     "metadata": {
      "needs_background": "light"
     },
     "output_type": "display_data"
    }
   ],
   "source": [
    "# draw a correlation from class and fare paid.\n",
    "fig, ax = plt.subplots()\n",
    "plt.ylabel(\"fare\")\n",
    "plt.xlabel(\"class\")\n",
    "plt.plot(pclass, fare, 'ro')\n",
    "plt.show()"
   ]
  },
  {
   "cell_type": "code",
   "execution_count": 91,
   "id": "automated-cache",
   "metadata": {
    "scrolled": true
   },
   "outputs": [
    {
     "data": {
      "image/png": "[encoded data removed]",
      "text/plain": [
       "<Figure size 432x288 with 1 Axes>"
      ]
     },
     "metadata": {
      "needs_background": "light"
     },
     "output_type": "display_data"
    }
   ],
   "source": [
    "# Compare survival with fare paid\n",
    "fix, ax = plt.subplots()\n",
    "ax.set_xlabel(\"fare\")\n",
    "ax.set_ylabel(\"survived\")\n",
    "fare_buckets = range(0,300,20)\n",
    "fare_buckets_of_passengers = fare - (fare % 20)\n",
    "surviving_passengers_in_fare = fare_buckets_of_passengers[survived == 1]\n",
    "deceased_passengers_in_fare = fare_buckets_of_passengers[survived == 0]\n",
    "for bucket in fare_buckets:\n",
    "    ax.bar(bucket+4, deceased_passengers_in_fare[deceased_passengers_in_fare==bucket].size, width=8, color='red')\n",
    "    ax.bar(bucket+12, surviving_passengers_in_fare[surviving_passengers_in_fare==bucket].size, width=8, color='green')\n",
    "\n",
    "ax.set_ylabel(\"people\")\n",
    "ax.set_xlabel(\"fare bucket\")\n",
    "ax.set_xticks(fare_buckets)\n",
    "ax.set_title(\"Survival of Passengers by Fare Paid\")\n",
    "plt.show()"
   ]
  },
  {
   "cell_type": "code",
   "execution_count": 153,
   "id": "resistant-winner",
   "metadata": {
    "scrolled": true
   },
   "outputs": [
    {
     "data": {
      "image/png": "[encoded data removed]",
      "text/plain": [
       "<Figure size 432x288 with 1 Axes>"
      ]
     },
     "metadata": {
      "needs_background": "light"
     },
     "output_type": "display_data"
    }
   ],
   "source": [
    "# Compare survival with fare paid\n",
    "fix, ax = plt.subplots()\n",
    "bucket_width = 40\n",
    "fare_buckets = range(0,300,bucket_width)\n",
    "fare_buckets_of_passengers = fare - (fare % bucket_width)\n",
    "surviving_passengers_in_fare = fare_buckets_of_passengers[survived == 1]\n",
    "deceased_passengers_in_fare = fare_buckets_of_passengers[survived == 0]\n",
    "for bucket in fare_buckets:\n",
    "    people_count = fare_buckets_of_passengers[fare_buckets_of_passengers==bucket].size\n",
    "    if people_count == 0:\n",
    "        continue\n",
    "    survivors_count = surviving_passengers_in_fare[surviving_passengers_in_fare==bucket].size\n",
    "    odds = 100.0 * (survivors_count / people_count)\n",
    "    \n",
    "    ax.bar(bucket+bucket_width/2, odds, width=bucket_width-2)\n",
    "\n",
    "ax.set_ylabel(\"odds of surviving\")\n",
    "ax.set_xlabel(\"fare bucket\")\n",
    "ax.set_xticks(fare_buckets)\n",
    "ax.set_title(\"Survival of Passengers by Fare Paid\")\n",
    "plt.show()"
   ]
  },
  {
   "cell_type": "code",
   "execution_count": 154,
   "id": "taken-tension",
   "metadata": {
    "scrolled": true
   },
   "outputs": [
    {
     "data": {
      "image/png": "[encoded data removed]",
      "text/plain": [
       "<Figure size 432x288 with 1 Axes>"
      ]
     },
     "metadata": {
      "needs_background": "light"
     },
     "output_type": "display_data"
    }
   ],
   "source": [
    "# Compare survival with fare paid\n",
    "fix, ax = plt.subplots()\n",
    "bucket_width = 40\n",
    "fare_buckets = range(0,300,bucket_width)\n",
    "fare_buckets_of_passengers = fare - (fare % bucket_width)\n",
    "for bucket in fare_buckets:\n",
    "    people_count = fare_buckets_of_passengers[fare_buckets_of_passengers==bucket].size\n",
    "    if people_count == 0:\n",
    "        continue\n",
    "    ax.bar(bucket+bucket_width/2, people_count, width=bucket_width*0.8)\n",
    "\n",
    "ax.set_ylabel(\"number of passengers\")\n",
    "ax.set_xlabel(\"fare bucket\")\n",
    "ax.set_xticks(fare_buckets)\n",
    "ax.set_title(\"Passengers by Fare Paid\")\n",
    "plt.show()"
   ]
  },
  {
   "cell_type": "code",
   "execution_count": 146,
   "id": "remarkable-stations",
   "metadata": {},
   "outputs": [
    {
     "data": {
      "text/plain": [
       "Text(0.5, 1.0, 'Range of fares')"
      ]
     },
     "execution_count": 146,
     "metadata": {},
     "output_type": "execute_result"
    },
    {
     "data": {
      "image/png": "[encoded data removed]",
      "text/plain": [
       "<Figure size 432x288 with 1 Axes>"
      ]
     },
     "metadata": {
      "needs_background": "light"
     },
     "output_type": "display_data"
    }
   ],
   "source": [
    "# let's see the range of values for the fares.  Possibly broken down by class\n",
    "# make a box plot\n",
    "fig, ax = plt.subplots()\n",
    "ax.boxplot(fare, 0, 'rs', 0)\n",
    "ax.set_title(\"Range of fares\")\n",
    "\n"
   ]
  }
 ],
 "metadata": {
  "kernelspec": {
   "display_name": "Python 3",
   "language": "python",
   "name": "python3"
  },
  "language_info": {
   "codemirror_mode": {
    "name": "ipython",
    "version": 3
   },
   "file_extension": ".py",
   "mimetype": "text/x-python",
   "name": "python",
   "nbconvert_exporter": "python",
   "pygments_lexer": "ipython3",
   "version": "3.8.5"
  }
 },
 "nbformat": 4,
 "nbformat_minor": 5
}
